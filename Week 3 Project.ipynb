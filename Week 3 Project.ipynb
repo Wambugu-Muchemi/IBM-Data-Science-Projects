{
    "cells": [
        {
            "metadata": {
                "collapsed": true
            },
            "cell_type": "markdown",
            "source": "# My Jupyter Notebook on IBM Watson Studio"
        },
        {
            "metadata": {},
            "cell_type": "markdown",
            "source": "<U>__WAMBUGU MUCHEMI__</U>\n<p>I am aspiring to be the best data scientist there is in my region.</p>\n"
        },
        {
            "metadata": {},
            "cell_type": "markdown",
            "source": "*I am interested in Data Science because I believe in the years to come, data will be so volumnous that it won't be possible to handle it with our current methods.*"
        },
        {
            "metadata": {},
            "cell_type": "markdown",
            "source": "### The Code below will solve an arithmetic problem"
        },
        {
            "metadata": {},
            "cell_type": "code",
            "source": "2+3",
            "execution_count": 2,
            "outputs": [
                {
                    "output_type": "execute_result",
                    "execution_count": 2,
                    "data": {
                        "text/plain": "5"
                    },
                    "metadata": {}
                }
            ]
        },
        {
            "metadata": {},
            "cell_type": "markdown",
            "source": "I will ~~strikethrough~~ <mark style=\"background-color: #FFFF00\">this highlighted text</mark> and check why I am lying on [my website](www.franklynwesley.blogspot.com) afterwhich I will buy the following;\n<ol><li> bananas</li>\n<li>nuts</li></ol>"
        },
        {
            "metadata": {},
            "cell_type": "code",
            "source": "",
            "execution_count": null,
            "outputs": []
        }
    ],
    "metadata": {
        "kernelspec": {
            "name": "python3",
            "display_name": "Python 3.9",
            "language": "python"
        },
        "language_info": {
            "name": "python",
            "version": "3.9.12",
            "mimetype": "text/x-python",
            "codemirror_mode": {
                "name": "ipython",
                "version": 3
            },
            "pygments_lexer": "ipython3",
            "nbconvert_exporter": "python",
            "file_extension": ".py"
        }
    },
    "nbformat": 4,
    "nbformat_minor": 1
}